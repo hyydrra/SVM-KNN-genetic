{
  "nbformat": 4,
  "nbformat_minor": 0,
  "metadata": {
    "colab": {
      "name": "ISCA1.ipynb",
      "provenance": [],
      "collapsed_sections": [],
      "include_colab_link": true
    },
    "kernelspec": {
      "name": "python3",
      "display_name": "Python 3"
    }
  },
  "cells": [
    {
      "cell_type": "markdown",
      "metadata": {
        "id": "view-in-github",
        "colab_type": "text"
      },
      "source": [
        "<a href=\"https://colab.research.google.com/github/hyydrra/SVM-KNN-genetic/blob/master/IinteligenSystemsCA1_SVM_KNN.ipynb\" target=\"_parent\"><img src=\"https://colab.research.google.com/assets/colab-badge.svg\" alt=\"Open In Colab\"/></a>"
      ]
    },
    {
      "cell_type": "code",
      "metadata": {
        "id": "elOy7ePQX1SZ",
        "colab_type": "code",
        "colab": {}
      },
      "source": [
        "import numpy as np\n",
        "import pandas as pd\n",
        "import matplotlib.pyplot as plt\n",
        "import string"
      ],
      "execution_count": null,
      "outputs": []
    },
    {
      "cell_type": "code",
      "metadata": {
        "id": "O0U0-92fZaqc",
        "colab_type": "code",
        "colab": {}
      },
      "source": [
        "train_data=pd.read_csv('/content/drive/My Drive/Fashion_MNIST/Train_Data.csv')\n",
        "train_labels=pd.read_csv('/content/drive/My Drive/Fashion_MNIST/Train_Labels.csv')\n",
        "test_data=pd.read_csv('/content/drive/My Drive/Fashion_MNIST/Test_Data.csv')\n",
        "test_labels=pd.read_csv('/content/drive/My Drive/Fashion_MNIST/Test_Labels.csv')\n",
        "dim=train_data.shape[1]\n",
        "num_traindata=train_data.shape[0]\n",
        "num_testdata=test_data.shape[0]\n",
        "norm_train=((train_data-train_data.min())/(train_data.max()-train_data.min()))\n",
        "norm_test=((test_data-test_data.min())/(test_data.max()-test_data.min()))"
      ],
      "execution_count": null,
      "outputs": []
    },
    {
      "cell_type": "markdown",
      "metadata": {
        "id": "Fwb9Q5N8z50N",
        "colab_type": "text"
      },
      "source": [
        "Question4: SVM"
      ]
    },
    {
      "cell_type": "code",
      "metadata": {
        "id": "nHRCxnM1b1rM",
        "colab_type": "code",
        "colab": {}
      },
      "source": [
        "mean, sigma = 0, 0.1 # mean and standard deviation\n",
        "w0 = np.random.normal(mean, sigma, dim)"
      ],
      "execution_count": null,
      "outputs": []
    },
    {
      "cell_type": "code",
      "metadata": {
        "id": "6-cNCZnCeh9w",
        "colab_type": "code",
        "colab": {}
      },
      "source": [
        "def svm_sgd(X, Y,landa):\n",
        "  w = w0\n",
        "  eta = 1\n",
        "  epochs = 50\n",
        "  errors=[]\n",
        "  gs=[]\n",
        "  for epoch in range(1,epochs):\n",
        "    #print(epoch)\n",
        "    cnt=0\n",
        "    for i, x in enumerate(X):\n",
        "      #rmse=w**2\n",
        "      #rmse=rmse.sum()\n",
        "      #rmse=rmse**0.5\n",
        "      #g=landa*rmse + max(0,float(1-(Y[i]*np.dot(X[i], w))))\n",
        "      #gs.append(g)\n",
        "      if (Y[i]*np.dot(X[i], w)) < 1:\n",
        "        w = w + eta * ( (X[i] * Y[i]) + (-2  *(landa)* w) )\n",
        "        cnt=cnt+1\n",
        "      else:\n",
        "        w = w + eta * (-2  *(landa)* w)\n",
        "    eta=1/(10*epoch)\n",
        "    #print(\"error: \",cnt)\n",
        "    errors.append(cnt)\n",
        "  return w,errors"
      ],
      "execution_count": null,
      "outputs": []
    },
    {
      "cell_type": "code",
      "metadata": {
        "id": "88qbtHJemShb",
        "colab_type": "code",
        "colab": {}
      },
      "source": [
        "def svm_minibatch(X, Y,landa):\n",
        "  w = w0\n",
        "  eta = 1\n",
        "  epochs = 50\n",
        "  errors=[]\n",
        "  batch=100\n",
        "  for epoch in range(1,epochs):\n",
        "    #print(epoch)\n",
        "    #landaa=1/epoch\n",
        "    landaa=landa\n",
        "    cnt=0\n",
        "    temp=0\n",
        "    count_b=0\n",
        "    for i, x in enumerate(X):\n",
        "      if (Y[i]*np.dot(X[i], w)) < 1:\n",
        "        temp=temp+(X[i] * Y[i])\n",
        "        cnt=cnt+1\n",
        "      count_b=count_b+1\n",
        "      if count_b==batch:\n",
        "        w = w + eta * ( (temp) + (-2  *(landaa)* w) +batch*(-2  *(landaa)* w))\n",
        "        temp=0\n",
        "        count_b=0\n",
        "    eta=1/(10*epoch)\n",
        "    #print(\"error: \",cnt)\n",
        "    errors.append(cnt)\n",
        "  return w,errors"
      ],
      "execution_count": null,
      "outputs": []
    },
    {
      "cell_type": "markdown",
      "metadata": {
        "id": "AoVuBBU0STCw",
        "colab_type": "text"
      },
      "source": [
        "K_fold Cross validation"
      ]
    },
    {
      "cell_type": "code",
      "metadata": {
        "id": "AV3yjA-afnM9",
        "colab_type": "code",
        "colab": {}
      },
      "source": [
        "landas=10**np.arange(-10.0,12.0,2)\n",
        "for landa in landas:\n",
        "  mean=0\n",
        "  for i in range(5):\n",
        "    counttrue=0\n",
        "    cross_test=norm_train[int(i*num_traindata/5):int((i+1)*num_traindata/5)]\n",
        "    cross_testlabel=train_labels[int(i*num_traindata/5):int((i+1)*num_traindata/5)]\n",
        "    Cross_train=norm_train.drop(norm_train.index[int(i*num_traindata/5):int((i+1)*num_traindata/5)])\n",
        "    cross_trainlabel=train_labels.drop(train_labels.index[int(i*num_traindata/5):int((i+1)*num_traindata/5)])\n",
        "    Cross_num_traindata=cross_trainlabel.shape[0]\n",
        "    Cross_num_testdata=cross_testlabel.shape[0]\n",
        "    Cross_weight=[]\n",
        "    for n in range(10):\n",
        "      curr_class=n\n",
        "      trainlabel=np.zeros((Cross_num_traindata,1))\n",
        "      for i in range(Cross_num_traindata):\n",
        "        if int(cross_trainlabel.values[i])==curr_class:\n",
        "          trainlabel[i]=1\n",
        "        else:\n",
        "          trainlabel[i]=-1 \n",
        "      W,error=svm_sgd(Cross_train.values,trainlabel,landa)\n",
        "      Cross_weight.append([])\n",
        "      Cross_weight[n].append(W)\n",
        "      \n",
        "\n",
        "    for i,x in enumerate(cross_test.values):\n",
        "      max=-1000000\n",
        "      for j in range(10):\n",
        "        temp=np.dot(cross_test.values[i],np.asarray(Cross_weight[j]).reshape(182,))\n",
        "        if  temp>=max:\n",
        "          max=temp\n",
        "          templabel=j\n",
        "      if cross_testlabel.values[i]==templabel:\n",
        "        counttrue=counttrue+1\n",
        "    mean=mean+counttrue\n",
        "  mean=mean/5\n",
        "  print(\"mean of accuracy for landa=\"+str(landa)+\" is: \"+str(100*mean/Cross_num_testdata))\n",
        "  \n",
        "\n",
        "\n"
      ],
      "execution_count": null,
      "outputs": []
    },
    {
      "cell_type": "markdown",
      "metadata": {
        "id": "LYcBbgkzScgv",
        "colab_type": "text"
      },
      "source": [
        "RUN and plot"
      ]
    },
    {
      "cell_type": "code",
      "metadata": {
        "id": "OuFe9_6zkr_c",
        "colab_type": "code",
        "colab": {}
      },
      "source": [
        "weights=[]\n",
        "for n in range(10):\n",
        "  curr_class=n\n",
        "  trainlabel=np.zeros((num_traindata,1))\n",
        "  for i in range(num_traindata):\n",
        "    if int(train_labels.values[i])==curr_class:\n",
        "      trainlabel[i]=1\n",
        "    else:\n",
        "      trainlabel[i]=-1\n",
        "\n",
        "  testlabel=np.zeros((num_testdata,1))\n",
        "  for i in range(num_testdata):\n",
        "    if int(test_labels.values[i])==curr_class:\n",
        "      testlabel[i]=1\n",
        "    else:\n",
        "      testlabel[i]=-1\n",
        "\n",
        "  W,error=svm_minibatch(norm_train.values,trainlabel,10**-6)\n",
        "  weights.append([])\n",
        "  weights[n].append(W)\n",
        "  plt.plot(error)\n",
        "  plt.title('Class '+str(n)+' Vs All')\n",
        "  plt.xlabel('iteration')\n",
        "  plt.ylabel('misclassification in train data')\n",
        "  plt.show()\n",
        "\n",
        "  counttrue=0\n",
        "  for i,x in enumerate(norm_test.values):\n",
        "    if  testlabel[i]*np.dot(norm_test.values[i],W)>=1:\n",
        "      counttrue=counttrue+1\n",
        "  print('      accuracy in test data: '+str(100*counttrue/num_testdata))\n"
      ],
      "execution_count": null,
      "outputs": []
    },
    {
      "cell_type": "code",
      "metadata": {
        "id": "DA5c5Hvw2P2E",
        "colab_type": "code",
        "colab": {
          "base_uri": "https://localhost:8080/",
          "height": 34
        },
        "outputId": "4c530744-dfa8-4603-f034-073fd8a1b802"
      },
      "source": [
        "\n",
        "counttrue=0\n",
        "for i,x in enumerate(norm_test.values):\n",
        "  max=-1000000\n",
        "  for j in range(10):\n",
        "    temp=np.dot(norm_test.values[i],np.asarray(weights[j]).reshape(182,))\n",
        "    if  temp>=max:\n",
        "      max=temp\n",
        "      templabel=j\n",
        "  if test_labels.values[i]==templabel:\n",
        "    counttrue=counttrue+1\n",
        "\n",
        "print(\"Total accuracy of SVM with landa=1e-6 and after 200 itteration and batch_size=100 : \"+str(counttrue/i))"
      ],
      "execution_count": null,
      "outputs": [
        {
          "output_type": "stream",
          "text": [
            "Total accuracy of SVM with landa=1e-6 and after 200 itteration and batch_size=100 : 0.7678673527730131\n"
          ],
          "name": "stdout"
        }
      ]
    },
    {
      "cell_type": "markdown",
      "metadata": {
        "id": "gLfxBGUuz-sH",
        "colab_type": "text"
      },
      "source": [
        "Question5: KNN"
      ]
    },
    {
      "cell_type": "code",
      "metadata": {
        "id": "FHigDJ87HD41",
        "colab_type": "code",
        "colab": {}
      },
      "source": [
        "#normalization\n",
        "KNN_data=((train_data-train_data.min())/(train_data.max()-train_data.min()))\n",
        "KNN_test=((test_data-test_data.min())/(test_data.max()-test_data.min()))"
      ],
      "execution_count": null,
      "outputs": []
    },
    {
      "cell_type": "code",
      "metadata": {
        "id": "nQWPHqDc0B_I",
        "colab_type": "code",
        "colab": {}
      },
      "source": [
        "#for two or more row input data\n",
        "def KNN1(Input,k,FLoss):\n",
        "  my_pred=[]\n",
        "\n",
        "  for i in range(Input.shape[0]):\n",
        "    count=[0,0,0,0,0,0,0,0,0,0]\n",
        "    #Loss = norm2(RMSE):\n",
        "    if FLoss==0:\n",
        "      L=(KNN_data-Input.iloc[i,:].values.squeeze())**2\n",
        "      L=L.sum(axis = 1, skipna = True)\n",
        "      L=L**0.5\n",
        "      \n",
        "    #Loss = sum(|X-Y|):\n",
        "    elif FLoss==1:\n",
        "      temp=KNN_data-Input.iloc[i,:].values.squeeze()\n",
        "      L=temp.abs()\n",
        "      L=L.sum(axis = 1, skipna = True)\n",
        "\n",
        "    #loss = max(|X-Y|):\n",
        "    elif FLoss==2:\n",
        "      temp=KNN_data-Input.iloc[i,:].values.squeeze()\n",
        "      L=temp.abs()\n",
        "      L=L.max(axis = 1, skipna = True)\n",
        "\n",
        "    ind=L.nsmallest(k).index\n",
        "    for j in range(k):\n",
        "      for m in range(10):\n",
        "        if train_labels.values[ind[j]]==m:\n",
        "          count[m]=count[m]+1\n",
        "    my_pred.append(count.index(max(count)))\n",
        "    print(i)\n",
        "  return my_pred "
      ],
      "execution_count": null,
      "outputs": []
    },
    {
      "cell_type": "code",
      "metadata": {
        "id": "rlLGuXxnJ4yd",
        "colab_type": "code",
        "colab": {}
      },
      "source": [
        "pred=KNN1(KNN_test,10,1)"
      ],
      "execution_count": null,
      "outputs": []
    },
    {
      "cell_type": "code",
      "metadata": {
        "id": "t7HFm84kYScc",
        "colab_type": "code",
        "colab": {}
      },
      "source": [
        "mylabels=test_labels.values\n",
        "knn_error=0\n",
        "for i in range(len(test_labels)):\n",
        "  if int(mylabels[i])!=pred[i]:\n",
        "    knn_error=knn_error+1\n",
        "print((len(test_labels)-knn_error)/len(test_labels))"
      ],
      "execution_count": null,
      "outputs": []
    },
    {
      "cell_type": "markdown",
      "metadata": {
        "id": "k7pgkC3HbWLi",
        "colab_type": "text"
      },
      "source": [
        "Qestion3: genetic"
      ]
    },
    {
      "cell_type": "code",
      "metadata": {
        "id": "NMfXmHqwba4a",
        "colab_type": "code",
        "colab": {
          "base_uri": "https://localhost:8080/",
          "height": 71
        },
        "outputId": "52a48fad-b704-437a-f082-1ff01112664f"
      },
      "source": [
        "charlist=list(string.ascii_lowercase)+list(string.ascii_uppercase)+[\" \"]\n",
        "Pass=\"its four AM and i am still writing this lovely report\"\n",
        "Pass=list(Pass)\n",
        "cracked=1\n",
        "h=0\n",
        "h1=0\n",
        "H=0\n",
        "cnt=0\n",
        "guess=np.zeros((1,len(Pass)))\n",
        "answer=[None]*len(Pass)\n",
        "temp=len(Pass)\n",
        "Pass=list(enumerate(Pass))\n",
        "while cracked:\n",
        "  guess=np.zeros((1,temp))\n",
        "  for i in range(5):\n",
        "    h=0\n",
        "    cnt=cnt+1\n",
        "    ans=np.random.randint(0,len(charlist),temp)\n",
        "    for j in range(temp):\n",
        "      if charlist[ans[j]]==Pass[j][1]:\n",
        "        h=h+1\n",
        "    if h>h1:\n",
        "      h1=h\n",
        "      ans1=ans\n",
        "  if h1!=0:\n",
        "    guess=(H*guess/(h1+H))+(h1*ans1/(h1+H))\n",
        "    guess=np.round(guess)\n",
        "  H=0\n",
        "  h1=0\n",
        "  temp_list=Pass.copy()\n",
        "  for j in range(len(guess[0])):\n",
        "    if charlist[int(guess[0][j])]==Pass[j][1]:\n",
        "      answer[Pass[j][0]]=Pass[j][1]\n",
        "      temp_list.remove(Pass[j])\n",
        "      H=H+1\n",
        "  Pass=temp_list.copy()\n",
        "  temp=len(Pass)\n",
        "  if temp==0:\n",
        "    cracked=0\n",
        "print(answer)\n",
        "print(\"number of random arrays created: \"+str(cnt))\n"
      ],
      "execution_count": null,
      "outputs": [
        {
          "output_type": "stream",
          "text": [
            "['i', 't', 's', ' ', 'f', 'o', 'u', 'r', ' ', 'A', 'M', ' ', 'a', 'n', 'd', ' ', 'i', ' ', 'a', 'm', ' ', 's', 't', 'i', 'l', 'l', ' ', 'w', 'r', 'i', 't', 'i', 'n', 'g', ' ', 't', 'h', 'i', 's', ' ', 'l', 'o', 'v', 'e', 'l', 'y', ' ', 'r', 'e', 'p', 'o', 'r', 't']\n",
            "number of random arrays created: 450\n"
          ],
          "name": "stdout"
        }
      ]
    }
  ]
}